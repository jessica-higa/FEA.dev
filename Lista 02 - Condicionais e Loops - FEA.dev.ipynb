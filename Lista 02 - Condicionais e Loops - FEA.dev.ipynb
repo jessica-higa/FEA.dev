{
 "cells": [
  {
   "cell_type": "markdown",
   "id": "a55f5f24",
   "metadata": {
    "id": "a55f5f24"
   },
   "source": [
    "![WhatsApp%20Image%202023-09-10%20at%2011.20.28.jpeg](attachment:WhatsApp%20Image%202023-09-10%20at%2011.20.28.jpeg)"
   ]
  },
  {
   "cell_type": "markdown",
   "id": "5bf28a15",
   "metadata": {
    "id": "5bf28a15"
   },
   "source": [
    "# Fala devs, blz??\n",
    "\n",
    "Esta será nossa segunda lista de exercícios para você praticar os temas abordados no MÓDULO 3:\n",
    "\n",
    "-Condicionais\n",
    "\n",
    "\n",
    "-Loops"
   ]
  },
  {
   "cell_type": "markdown",
   "id": "770a4249",
   "metadata": {
    "id": "770a4249"
   },
   "source": [
    "## INSTRUÇÕES:\n",
    "\n",
    "A lista deve ser realizada pelo Jupyter Notebook.\n",
    "\n",
    "Nâo é necessário entregar a lista para afins de certificado dentro da plataforma, entretanto para alunos da USP que queiram participar do processo seletivo ou conseguir créditos AAC (apenas FEANOS) é necessária a entrega de TODAS as listas.\n",
    "\n",
    "A entrega das listas ou pelo menos sua excecução é recomendada a fim de exercitar todo o conhecimento adquirido do curso.\n",
    "\n",
    "O DESAFIO é para realmente te desafiar, por isso não desista de tentar e de continuar com o curso, ao longo das listas você verá que cada vez mais você terá ferramentas para completá-lo.\n",
    "\n",
    "Caso haja alguma dúvida acerca da lista participe das monitorias que serão oferecidas as quintas e sábados das 17h as 18h pelo DISCORD. Caso seu problema não seje resolvido envie uma mensagem para contato.feadev@gmail.com\n",
    "\n",
    "O gabarito será disponibilizado na plataforma após o término de periodo de envio"
   ]
  },
  {
   "cell_type": "code",
   "execution_count": null,
   "id": "1b50acbe",
   "metadata": {
    "id": "1b50acbe"
   },
   "outputs": [],
   "source": [
    "## vamos programar??"
   ]
  },
  {
   "cell_type": "markdown",
   "id": "fa494e4c",
   "metadata": {
    "id": "fa494e4c"
   },
   "source": [
    "## QUESTÃO 0"
   ]
  },
  {
   "cell_type": "markdown",
   "id": "e0c77e25",
   "metadata": {
    "id": "e0c77e25"
   },
   "source": [
    "Escreva um programa em Python que solicite ao usuário que insira o número do seu endereço e, em seguida, verifique se sua casa fica do lado esquerda ou direito da rua. Se sua casa fica do lado direito da rua. o programa deve imprimir \"LADO DIREITO\", se fica do lado esquerdo \"LADO ESQUERDO\"."
   ]
  },
  {
   "cell_type": "markdown",
   "id": "d9c719f5",
   "metadata": {
    "id": "d9c719f5"
   },
   "source": [
    "#### DICA\n",
    "\n",
    "Casas com endereço par se localizam do lado direito, casas com endereço impar do lado esquerdo"
   ]
  },
  {
   "cell_type": "markdown",
   "id": "bd2d5c6f",
   "metadata": {
    "id": "bd2d5c6f"
   },
   "source": [
    "#### LEMBRE-SE\n",
    "\n",
    "**int (Número Inteiro):**\n",
    "\n",
    "O tipo de dado int representa números inteiros, ou seja, números sem casas decimais.\n",
    "\n",
    "Exemplos de inteiros incluem -3, 0, 42, 1001, etc.\n",
    "\n",
    "Você pode realizar operações aritméticas, como adição, subtração, multiplicação e divisão, com números inteiros.\n",
    "\n",
    "**float (Número de Ponto Flutuante):**\n",
    "\n",
    "O tipo de dado float representa números de ponto flutuante, que têm casas decimais.\n",
    "\n",
    "Exemplos de números de ponto flutuante incluem 3.14, -0.5, 2.71828, etc.\n",
    "\n",
    "Você pode realizar operações aritméticas com números de ponto flutuante da mesma forma que com inteiros.\n",
    "\n",
    "**Quando precisar especificar qual tipo de número você aceitará na resposta utilize:**\n",
    "\n",
    "**numero = float(input(\"Digite um número: \"))**\n",
    "\n",
    "\n",
    "**numero = int(input(\"Digite um número: \"))**\n"
   ]
  },
  {
   "cell_type": "code",
   "execution_count": 4,
   "id": "d68ab584",
   "metadata": {
    "id": "d68ab584"
   },
   "outputs": [
    {
     "name": "stdout",
     "output_type": "stream",
     "text": [
      "Digite o número do seu endereço: 81\n",
      "A sua casa se localiza do lado esquerdo.\n"
     ]
    }
   ],
   "source": [
    "#seu código começa aqui\n",
    "endereco = int(input(\"Digite o número do seu endereço: \"))\n",
    "if endereco % 2 == 0:\n",
    "    print(\"A sua casa se localiza do lado direito.\")\n",
    "else:\n",
    "    print(\"A sua casa se localiza do lado esquerdo.\")"
   ]
  },
  {
   "cell_type": "markdown",
   "id": "6b941a9d",
   "metadata": {
    "id": "6b941a9d"
   },
   "source": [
    "## QUESTÃO 1"
   ]
  },
  {
   "cell_type": "markdown",
   "id": "a883afc0",
   "metadata": {
    "id": "a883afc0"
   },
   "source": [
    "Você está trabalhando como desenvolvedor para uma livraria, criando um site de venda. Os donos dessa livraria acreditam que saber se seus clientes são leitores fervorosos ou novatos é uma informação útil para os negovios. Se o cliente costuma ler mais de dois livros por mês, ele é um leitor fervoroso, se ele costuma ler dois ou menos livros por mês, ele é um leitor novato.\n",
    "\n",
    "Crie um programa em Python que peça ao cliente para digitar quantos livros ele costuma ler por mês, só aceitando números inteiros. Em seguita, verifique se o número é maior que 2. Caso seja, imprima \"Leitor fervoroso\". Se for igual a 2 ou menos, imprima \"Leitor novato\". Use uma estrutura if-else.\n",
    "\n",
    "\n",
    "\n",
    "lembre-se para pedir que o jogador insira um número você deve usar *input*"
   ]
  },
  {
   "cell_type": "markdown",
   "id": "f27a8b32",
   "metadata": {
    "id": "f27a8b32"
   },
   "source": [
    "A função input() em Python é usada para receber entradas de texto (ou outros tipos de dados, que são tratados como texto) do usuário através do teclado. Ela permite que um programa interaja com o usuário, solicitando que ele insira informações durante a execução do programa.\n",
    "\n",
    "A sintaxe básica do input() é a seguinte:"
   ]
  },
  {
   "cell_type": "code",
   "execution_count": null,
   "id": "666c004b",
   "metadata": {
    "id": "666c004b"
   },
   "outputs": [],
   "source": [
    "variavel = input(\"Texto da solicitação: \")\n"
   ]
  },
  {
   "cell_type": "markdown",
   "id": "cec1c657",
   "metadata": {
    "id": "cec1c657"
   },
   "source": [
    "\"Texto da solicitação\" é a mensagem que será exibida ao usuário, pedindo-lhe que insira algo.\n",
    "O valor digitado pelo usuário é armazenado na variável especificada (nesse caso, na variável variavel)."
   ]
  },
  {
   "cell_type": "markdown",
   "id": "d653c5a1",
   "metadata": {
    "id": "d653c5a1"
   },
   "source": [
    "![memes-o-efeito-dos-livros-v0-QIIJ1JHSfXKN1aWRT0II7Sq9DZXrI2dt6VhhomlbWKM.webp](attachment:memes-o-efeito-dos-livros-v0-QIIJ1JHSfXKN1aWRT0II7Sq9DZXrI2dt6VhhomlbWKM.webp)"
   ]
  },
  {
   "cell_type": "code",
   "execution_count": 9,
   "id": "39c83fa8",
   "metadata": {
    "id": "39c83fa8"
   },
   "outputs": [
    {
     "name": "stdout",
     "output_type": "stream",
     "text": [
      "Digite quantos livros você costuma ler por mês: 0\n",
      "Leitor novato\n"
     ]
    }
   ],
   "source": [
    "#seu código começa aqui\n",
    "\n",
    "qtdd_livros = int(input(\"Digite quantos livros você costuma ler por mês: \"))\n",
    "if qtdd_livros > 2:\n",
    "    print(\"Leitor fervoroso\")\n",
    "else:\n",
    "    print(\"Leitor novato\")"
   ]
  },
  {
   "cell_type": "markdown",
   "id": "ca9742ad",
   "metadata": {
    "id": "ca9742ad"
   },
   "source": [
    "## QUESTÃO 2"
   ]
  },
  {
   "cell_type": "markdown",
   "id": "37c1af5f",
   "metadata": {
    "id": "37c1af5f"
   },
   "source": [
    " Você deseja criar um programa que ajude os investidores a entender qual é a alíquota de imposto que irão pagar em seus\n",
    "investimentos de renda fixa de acordo com o prazo do investimento.\n",
    "* Prazos do investimento e output esperados:*\n",
    ">Até 180 dias de investimento, 22,5%;\n",
    ">De 181 a 360 dias de investimento, 20%;\n",
    ">De 361 a 720 dias de investimento, 17,5%;\n",
    ">Acima de 720 dias, 15%."
   ]
  },
  {
   "cell_type": "code",
   "execution_count": 17,
   "id": "1f17dbfb",
   "metadata": {
    "id": "1f17dbfb"
   },
   "outputs": [
    {
     "name": "stdout",
     "output_type": "stream",
     "text": [
      "Digite o prazo de investimento em dias: 721\n",
      "A alíquota de imposto será de 15%.\n"
     ]
    }
   ],
   "source": [
    "# seu código começa aqui\n",
    "prazo = int(input(\"Digite o prazo de investimento em dias: \"))\n",
    "if prazo < 181:\n",
    "    print(\"A alíquota de imposto será de 22,5%.\")\n",
    "elif prazo < 361:\n",
    "    print(\"A alíquota de imposto será de 20%.\")\n",
    "elif prazo < 721:\n",
    "    print(\"A alíquota de imposto será de 17,5%.\")\n",
    "else:\n",
    "    print(\"A alíquota de imposto será de 15%.\")"
   ]
  },
  {
   "cell_type": "markdown",
   "id": "a416e4c6",
   "metadata": {
    "id": "a416e4c6"
   },
   "source": [
    "## QUESTÃO 3"
   ]
  },
  {
   "cell_type": "markdown",
   "id": "7637978a",
   "metadata": {
    "id": "7637978a"
   },
   "source": [
    "Um novo mercado abriu perto da sua casa e você resolve ir lá para fazer suas comprar e conhecer o lugar. O problema é, você\n",
    "está em dúvida do que comprar e do que não comprar.\n",
    "- Escreva um programa que retorne se você deverá comprar ou não certo alimento, considerando que:\n",
    "  - Ele precisa estar na sua lista de comprar;\n",
    "  - O preço do sebo deve ser mais barato do que no mercado que você costuma ir."
   ]
  },
  {
   "cell_type": "markdown",
   "id": "f6b72b84",
   "metadata": {
    "id": "f6b72b84"
   },
   "source": [
    "a) Você deverá comprar berinjela?\n",
    "\n",
    "b) Você deverá comprar grão de bico?\n",
    "\n",
    "c) Você deverá comprar repolho em conserva?"
   ]
  },
  {
   "cell_type": "markdown",
   "id": "0c51de37",
   "metadata": {
    "id": "0c51de37"
   },
   "source": [
    "![e6bbe395738986e7d9ce95ba7230d17fd50c5546c64059c801cf429999ae08e3_1.jpg](attachment:e6bbe395738986e7d9ce95ba7230d17fd50c5546c64059c801cf429999ae08e3_1.jpg)"
   ]
  },
  {
   "cell_type": "code",
   "execution_count": 27,
   "id": "15e52fd9",
   "metadata": {
    "id": "15e52fd9"
   },
   "outputs": [
    {
     "name": "stdout",
     "output_type": "stream",
     "text": [
      "Qual alimento você quer verificar? repolho em conserva\n",
      "O alimento está na lista porém não há histórico de preços para comparação.\n"
     ]
    }
   ],
   "source": [
    "lista = ['berinjela', 'cerveja', 'miojo', 'grão de bico', 'energético', 'repolho em conserva', 'repolho']\n",
    "\n",
    "precos_novo_mercado = {'berinjela':5, 'cerveja':3, 'miojo': 20, 'grão de bico':15, 'energético':18, 'repolho':30}\n",
    "precos_velho_mercado = {'berinjela':3, 'cerveja':2, 'miojo': 10, 'grão de bico':22, 'energético':19, 'repolho':40}\n",
    "\n",
    "#####SEU CODIGO COMECA AQUI#####\n",
    "alimento = input(\"Qual alimento você quer verificar? \")\n",
    "alimento = alimento.lower()\n",
    "if alimento in lista:\n",
    "    if alimento in precos_novo_mercado and alimento in precos_velho_mercado:\n",
    "        if precos_novo_mercado[alimento] < precos_velho_mercado[alimento]:\n",
    "            print(\"O preço no novo mercado é mais barato. Você deve comprar.\")\n",
    "        else:\n",
    "            print(\"O novo mercado tem preço mais caro. Você não deve comprar.\")\n",
    "    else:\n",
    "        print(\"O alimento está na lista porém não há histórico de preços para comparação.\")\n",
    "else:\n",
    "    print(\"O alimento não está na lista.\")"
   ]
  },
  {
   "cell_type": "markdown",
   "id": "a4c1d513",
   "metadata": {
    "id": "a4c1d513"
   },
   "source": [
    "## QUESTÃO 4"
   ]
  },
  {
   "cell_type": "markdown",
   "id": "115e1037",
   "metadata": {
    "id": "115e1037"
   },
   "source": [
    "Você está criando um jogo de adivinhação\n",
    "\n",
    "O programa deve gerar um número aleatório entre 1 e 10.\n",
    "Dica: você pode usar a função random.randint(a, b) em Python para gerar o número aleatório.\n",
    "\n",
    "O programa deve pedir ao usuário para adivinhar o número.\n",
    "\n",
    "Se o número digitado pelo usuário for igual ao número gerado pelo computador, o programa deve exibir a mensagem \"Parabéns, você acertou!\".\n",
    "Caso contrário, o programa deve exibir a mensagem \"Errou! O número correto era [número gerado pelo computador]\".\n",
    "\n",
    "Dica: Use a estrutura if-else para fazer a comparação entre os números."
   ]
  },
  {
   "cell_type": "markdown",
   "id": "a3e694e2",
   "metadata": {
    "id": "a3e694e2"
   },
   "source": [
    "![Screenshot%202022-04-25%20at%208.44.53%20PM.png](attachment:Screenshot%202022-04-25%20at%208.44.53%20PM.png)"
   ]
  },
  {
   "cell_type": "code",
   "execution_count": 33,
   "id": "1ba20e46",
   "metadata": {
    "id": "1ba20e46"
   },
   "outputs": [
    {
     "name": "stdout",
     "output_type": "stream",
     "text": [
      "Tente adivinhar o número gerado pelo computador. Insira um valor de 1 a 10: 4\n",
      "Parabéns, você acertou!\n"
     ]
    }
   ],
   "source": [
    "#####SEU CODIGO COMECA AQUI#####\n",
    "from numpy import random\n",
    "num_pc = random.randint(1,10)\n",
    "num_user = int(input(\"Tente adivinhar o número gerado pelo computador. Insira um valor de 1 a 10: \"))\n",
    "if num_pc == num_user:\n",
    "    print(\"Parabéns, você acertou!\")\n",
    "else:\n",
    "    print(f\"Errou! O número correto era {num_pc}.\")"
   ]
  },
  {
   "cell_type": "markdown",
   "id": "d4b34289",
   "metadata": {
    "id": "d4b34289"
   },
   "source": [
    "## QUESTÃO 5"
   ]
  },
  {
   "cell_type": "markdown",
   "id": "c06ff65a",
   "metadata": {
    "id": "c06ff65a"
   },
   "source": [
    "Escreva um programa em Python que use um loop para imprimir os elementos de uma lista.\n",
    "\n",
    "Dica: uso a função len(nome_da_lista) para saber quantos elementos a lista tem."
   ]
  },
  {
   "cell_type": "code",
   "execution_count": null,
   "id": "f6f72146",
   "metadata": {
    "id": "f6f72146"
   },
   "outputs": [],
   "source": [
    "lista = ['E','u','_','a','m','o','_','p','r','o','g','r','a','m','a','r']"
   ]
  },
  {
   "cell_type": "markdown",
   "id": "3133af94",
   "metadata": {
    "id": "3133af94"
   },
   "source": [
    "A saída do programa deve ser algo como:\n",
    "    \n",
    "E u _ a m o _ p r o g r a m a r\n",
    "\n"
   ]
  },
  {
   "cell_type": "code",
   "execution_count": 37,
   "id": "1fcf49d0",
   "metadata": {
    "id": "1fcf49d0"
   },
   "outputs": [
    {
     "name": "stdout",
     "output_type": "stream",
     "text": [
      "E u _ a m o _ p r o g r a m a r "
     ]
    }
   ],
   "source": [
    "lista = ['E','u','_','a','m','o','_','p','r','o','g','r','a','m','a','r']\n",
    "\n",
    "#####SEU CODIGO COMECA AQUI#####\n",
    "tamanho_lista = len(lista)\n",
    "\n",
    "for i in range(tamanho_lista):\n",
    "    print(lista[i], end=' ')"
   ]
  },
  {
   "cell_type": "markdown",
   "id": "7a8e10e6",
   "metadata": {
    "id": "7a8e10e6"
   },
   "source": [
    "## QUESTÃO 6"
   ]
  },
  {
   "cell_type": "markdown",
   "id": "82625671",
   "metadata": {
    "id": "82625671"
   },
   "source": [
    "O número π foi calculado com uma precisão de 62,8 trilhões de casas decimais! 1.\n",
    "Esse recorde mundial foi batido no dia 14/08/2021 pela Universidade de Ciências Aplicadas de Graubünden.\n",
    "para fazer o download de todos os dígitos de π, você precisará de um disco rígido de 64 Terabytes!\n",
    "\n",
    "Aqui está o O número π com 42 casas decimais\n",
    "\n",
    "Faça um programa que irá percorrer O número π e dizer quantos algorismo decimais são pares e quanto com ímpares.\n",
    "\n",
    "Dica: utilize a lógica de loops junto com a lógica das condicionais!"
   ]
  },
  {
   "cell_type": "markdown",
   "id": "ff0e401e",
   "metadata": {
    "id": "ff0e401e"
   },
   "source": [
    "![pi-destaque.jpg](attachment:pi-destaque.jpg)"
   ]
  },
  {
   "cell_type": "code",
   "execution_count": 39,
   "id": "8faa67db",
   "metadata": {
    "id": "8faa67db"
   },
   "outputs": [
    {
     "name": "stdout",
     "output_type": "stream",
     "text": [
      "Para o número Pi 3.141592653589793238462643383279502884197169, a quantidade de decimais pares é 21 e decimais ímpares é 21.\n"
     ]
    }
   ],
   "source": [
    "pi = '3.141592653589793238462643383279502884197169'\n",
    "pi_decimal = '141592653589793238462643383279502884197169'\n",
    "\n",
    "#####SEU CODIGO COMECA AQUI#####\n",
    "qntd_decimais = len(pi_decimal)\n",
    "qntd_par = 0\n",
    "qntd_impar = 0\n",
    "\n",
    "for i in range(qntd_decimais):\n",
    "    if i % 2 == 0:\n",
    "        qntd_par += 1\n",
    "    else:\n",
    "        qntd_impar += 1\n",
    "\n",
    "print(f\"Para o número Pi {pi}, a quantidade de decimais pares é {qntd_par} e decimais ímpares é {qntd_impar}.\")"
   ]
  },
  {
   "cell_type": "markdown",
   "id": "3d1f7817",
   "metadata": {
    "id": "3d1f7817"
   },
   "source": [
    "## QUESTÃO 7"
   ]
  },
  {
   "cell_type": "markdown",
   "id": "f13d212b",
   "metadata": {
    "id": "f13d212b"
   },
   "source": [
    "O grande poder dos Loops é que você poder printar elementos em uma velocidade muuito maior. Utilize esse novo poder para printar os digitos de 1 a 9 da seguinte maneira:"
   ]
  },
  {
   "cell_type": "code",
   "execution_count": null,
   "id": "57c1c4b4",
   "metadata": {
    "id": "57c1c4b4"
   },
   "outputs": [],
   "source": [
    "\"\"\"\n",
    "1\n",
    "22\n",
    "333\n",
    "4444\n",
    "55555\n",
    "666666\n",
    "7777777\n",
    "88888888\n",
    "999999999\n",
    "\"\"\""
   ]
  },
  {
   "cell_type": "code",
   "execution_count": 40,
   "id": "f8d7bf01",
   "metadata": {
    "id": "f8d7bf01"
   },
   "outputs": [
    {
     "name": "stdout",
     "output_type": "stream",
     "text": [
      "1\n",
      "22\n",
      "333\n",
      "4444\n",
      "55555\n",
      "666666\n",
      "7777777\n",
      "88888888\n",
      "999999999\n"
     ]
    }
   ],
   "source": [
    "#####SEU CODIGO COMECA AQUI#####\n",
    "for i in range(1, 10):\n",
    "    print(str(i) * i)"
   ]
  },
  {
   "cell_type": "markdown",
   "id": "4c0b62d9",
   "metadata": {
    "id": "4c0b62d9"
   },
   "source": [
    "## QUESTÃO 8"
   ]
  },
  {
   "cell_type": "markdown",
   "id": "759ad307",
   "metadata": {
    "id": "759ad307"
   },
   "source": [
    "Escreva um programa que imprima todos os números primos compreendidos entre dois valores fornecidos pelo usuário.\n",
    "\n",
    "Dicas:\n",
    "\n",
    "Um número primo é aquele que é divisível apenas por 1 e por ele mesmo.\n",
    "Utilize um loop for para percorrer todos os valores entre o valor inicial e o valor final fornecidos pelo usuário.\n",
    "Se o número for primo, imprima-o."
   ]
  },
  {
   "cell_type": "markdown",
   "id": "0885ce29",
   "metadata": {
    "id": "0885ce29"
   },
   "source": [
    "![5175043.jpg](attachment:5175043.jpg)"
   ]
  },
  {
   "cell_type": "code",
   "execution_count": 47,
   "id": "b74e6d01",
   "metadata": {
    "id": "b74e6d01"
   },
   "outputs": [
    {
     "name": "stdout",
     "output_type": "stream",
     "text": [
      "Digite o valor inicial: 5\n",
      "Digite o valor final: 13\n",
      "[5, 7, 11, 13]\n"
     ]
    }
   ],
   "source": [
    "valor_inicial = int(input(\"Digite o valor inicial: \"))\n",
    "valor_final = int(input(\"Digite o valor final: \"))\n",
    "\n",
    "#####SEU CODIGO COMECA AQUI#####\n",
    "x = list(range(valor_inicial, valor_final+1, 1))\n",
    "qnt_x = len(x)\n",
    "numeros_primos = []\n",
    "\n",
    "for i in range(qnt_x):\n",
    "    num = x[i]\n",
    "    for j in range(2, int(num**0.5)+1):\n",
    "        if num % j == 0:\n",
    "            break\n",
    "    else:\n",
    "        numeros_primos.append(num)\n",
    "\n",
    "print(numeros_primos)"
   ]
  },
  {
   "cell_type": "markdown",
   "id": "c5d925a8",
   "metadata": {
    "id": "c5d925a8"
   },
   "source": [
    "## QUESTÃO 9"
   ]
  },
  {
   "cell_type": "markdown",
   "id": "406b3fd7",
   "metadata": {
    "id": "406b3fd7"
   },
   "source": [
    "Criar um programa em Python que utilize o loop while para gerar a tabuada de um número digitado pelo usuário.\n",
    "\n",
    "O programa pede ao usuário para digitar um número.\n",
    "O programa gera a tabuada do número digitado, multiplicando-o por 1 até 10.\n",
    "O programa imprime a tabuada na tela\n"
   ]
  },
  {
   "cell_type": "markdown",
   "id": "723749c4",
   "metadata": {
    "id": "723749c4"
   },
   "source": [
    "Instruções:\n",
    "\n",
    "Peça ao usuário para digitar um número.\n",
    "Inicie um loop while que se repita de 1 a 10.\n",
    "Dentro do loop while:\n",
    "Multiplique o número digitado pelo contador do loop.\n",
    "Imprima o resultado  na tela."
   ]
  },
  {
   "cell_type": "markdown",
   "id": "0ed348cd",
   "metadata": {
    "id": "0ed348cd"
   },
   "source": [
    "![e45be16949640089f83d85dc36ce9756.jpg](attachment:e45be16949640089f83d85dc36ce9756.jpg)"
   ]
  },
  {
   "cell_type": "code",
   "execution_count": 53,
   "id": "6641be11",
   "metadata": {
    "id": "6641be11"
   },
   "outputs": [
    {
     "name": "stdout",
     "output_type": "stream",
     "text": [
      "Insira um número: 4\n",
      "4 x 1 = 4\n",
      "4 x 2 = 8\n",
      "4 x 3 = 12\n",
      "4 x 4 = 16\n",
      "4 x 5 = 20\n",
      "4 x 6 = 24\n",
      "4 x 7 = 28\n",
      "4 x 8 = 32\n",
      "4 x 9 = 36\n",
      "4 x 10 = 40\n"
     ]
    }
   ],
   "source": [
    "#####SEU CODIGO COMECA AQUI#####\n",
    "num = int(input(\"Insira um número: \"))\n",
    "contador = 1\n",
    "\n",
    "while contador <= 10:\n",
    "    resultado = num * contador\n",
    "    print(f\"{num} x {contador} = {resultado}\")\n",
    "    contador += 1"
   ]
  },
  {
   "cell_type": "markdown",
   "id": "edf9df5c",
   "metadata": {
    "id": "edf9df5c"
   },
   "source": [
    "## DESAFIO"
   ]
  },
  {
   "cell_type": "markdown",
   "id": "444d8cc6",
   "metadata": {
    "id": "444d8cc6"
   },
   "source": [
    "Criar um jogo de adivinhação em Python que utilize o loop while para permitir que o jogador tente adivinhar um número secreto.\n",
    "\n",
    "Regras:\n",
    "\n",
    "-O programa define um número secreto aleatório entre 1 e 100.\n",
    "-O jogador tenta adivinhar o número secreto.\n",
    "-O programa informa se o palpite do jogador é maior ou menor que o número secreto.\n",
    "-O jogador tem 10 tentativas para adivinhar o número secreto.\n",
    "-Se o jogador adivinhar o número secreto antes de 10 tentativas, ele vence o jogo.\n",
    "-Se o jogador não adivinhar o número secreto em 10 tentativas, ele perde o jogo."
   ]
  },
  {
   "cell_type": "markdown",
   "id": "0cae1cbf",
   "metadata": {
    "id": "0cae1cbf"
   },
   "source": [
    "Dicas:\n",
    "    \n",
    "Importe a biblioteca random.\n",
    "Defina uma variável numero_secreto como um número aleatório entre 1 e 100.\n",
    "Defina uma variável tentativas como 0, que vai ser aumentada em 1 a cada tentativa errada"
   ]
  },
  {
   "cell_type": "code",
   "execution_count": null,
   "id": "c6a2c9f9",
   "metadata": {
    "id": "c6a2c9f9"
   },
   "outputs": [],
   "source": [
    "#####SEU CODIGO COMECA AQUI#####\n"
   ]
  },
  {
   "cell_type": "markdown",
   "id": "94e90c5a",
   "metadata": {
    "id": "94e90c5a"
   },
   "source": [
    "### CURIOSIDADE\n",
    "\n",
    "Para criar um calendário em Python, você pode usar a biblioteca calendar que já está incluída na biblioteca padrão da linguagem. A biblioteca **calendar** fornece várias funções e classes para trabalhar com datas e calendários. Aqui está um exemplo simples de como criar um calendário de um mês específico em Python"
   ]
  },
  {
   "cell_type": "code",
   "execution_count": null,
   "id": "0374bc60",
   "metadata": {
    "id": "0374bc60",
    "outputId": "86e3b1d0-4934-4a12-e52d-bcd2db986890"
   },
   "outputs": [
    {
     "name": "stdout",
     "output_type": "stream",
     "text": [
      "    October 2023\n",
      "Mo Tu We Th Fr Sa Su\n",
      "                   1\n",
      " 2  3  4  5  6  7  8\n",
      " 9 10 11 12 13 14 15\n",
      "16 17 18 19 20 21 22\n",
      "23 24 25 26 27 28 29\n",
      "30 31\n",
      "\n"
     ]
    }
   ],
   "source": [
    "import calendar\n",
    "\n",
    "# Defina o ano e o mês desejados\n",
    "ano = 2023\n",
    "mes = 10  # Por exemplo, outubro\n",
    "\n",
    "# Crie um objeto de calendário\n",
    "cal = calendar.month(ano, mes)\n",
    "\n",
    "# Imprima o calendário\n",
    "print(cal)\n"
   ]
  },
  {
   "cell_type": "markdown",
   "id": "3cdff31e",
   "metadata": {
    "id": "3cdff31e"
   },
   "source": [
    "Neste exemplo, importamos a biblioteca calendar, definimos o ano e o mês desejados (neste caso, outubro de 2023) e, em seguida, usamos a função calendar.month(ano, mes) para criar o calendário desse mês específico. O calendário é retornado como uma string formatada e pode ser impresso no console.\n",
    "\n",
    "Você pode personalizar ainda mais a exibição do calendário usando as várias funções e métodos oferecidos pela biblioteca calendar, como calendar.weekday() para obter o dia da semana de uma data específica, ou calendar.setfirstweekday() para definir o primeiro dia da semana no calendário."
   ]
  }
 ],
 "metadata": {
  "colab": {
   "provenance": []
  },
  "kernelspec": {
   "display_name": "Python 3 (ipykernel)",
   "language": "python",
   "name": "python3"
  },
  "language_info": {
   "codemirror_mode": {
    "name": "ipython",
    "version": 3
   },
   "file_extension": ".py",
   "mimetype": "text/x-python",
   "name": "python",
   "nbconvert_exporter": "python",
   "pygments_lexer": "ipython3",
   "version": "3.11.3"
  }
 },
 "nbformat": 4,
 "nbformat_minor": 5
}
