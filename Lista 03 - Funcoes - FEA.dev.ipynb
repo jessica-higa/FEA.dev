{
 "cells": [
  {
   "cell_type": "markdown",
   "metadata": {
    "id": "wT7bgYCHAfif"
   },
   "source": [
    "# Fala devs, blz??\n",
    "\n",
    "Esta será nossa terceira lista de exercícios para você testar seu conhecimento acerca do conteúdo do MÓDULO 3:\n",
    "\n",
    "-Funções"
   ]
  },
  {
   "cell_type": "markdown",
   "metadata": {
    "id": "xPCt7q3EAfig"
   },
   "source": [
    "## INSTRUÇÕES:\n",
    "\n",
    "A lista deve ser realizada pelo Jupyter Notebook.\n",
    "\n",
    "A entrega das listas ou pelo menos sua excecução é recomendada a fim de exercitar todo o conhecimento adquirido do curso.\n",
    "\n",
    "O DESAFIO é para realmente te desafiar, por isso não desista de tentar e de continuar com o curso, ao longo das listas você verá que cada vez mais você terá ferramentas para completá-lo.\n",
    "\n",
    "Caso haja alguma dúvida acerca da lista participe das monitorias que serão oferecidas as quintas e sábados das 17h as 18h pelo DISCORD. Caso seu problema não seje resolvido envie uma mensagem para contato.feadev@gmail.com\n",
    "\n",
    "O gabarito será disponibilizado na plataforma após o término de periodo de envio\n",
    "\n"
   ]
  },
  {
   "cell_type": "markdown",
   "metadata": {
    "id": "qFuUwJy-Afig"
   },
   "source": [
    "## QUESTÃO 0"
   ]
  },
  {
   "cell_type": "markdown",
   "metadata": {
    "id": "h4P68vLHAfig"
   },
   "source": [
    "Pensando em viajar no fim do ano pra Alemanha, crie uma função que converta valores euro para real. Considere que 1 euro equivale a 5.34 reais.\n",
    "\n",
    "O orçamento da viagem está em 4500 euros, quantos reais você deverá guardar na sua poupança para garantir as férias?"
   ]
  },
  {
   "cell_type": "code",
   "execution_count": 3,
   "metadata": {
    "id": "9-vdrrNmAfig"
   },
   "outputs": [
    {
     "name": "stdout",
     "output_type": "stream",
     "text": [
      "O valor em real é 24030.0.\n"
     ]
    }
   ],
   "source": [
    "#seu código começa aqui\n",
    "def euro_real(qtdd_euro):\n",
    "    taxa_de_cambio = 5.34\n",
    "    valor_em_real = qtdd_euro * taxa_de_cambio\n",
    "    print(f\"O valor em real é {valor_em_real}.\")\n",
    "\n",
    "euro_real(4500)"
   ]
  },
  {
   "cell_type": "markdown",
   "metadata": {
    "id": "pmnsoF1fAfih"
   },
   "source": [
    "## QUESTÃO 1\n"
   ]
  },
  {
   "cell_type": "markdown",
   "metadata": {
    "id": "hlmzu16pAfih"
   },
   "source": [
    "Uma função em Python é uma sequência de códigos que possui nome próprio, executa tarefas específicas e evita repetição de código, podendo ser chamada pelo seu nome. Há funções já determinadas como print() e input(), entretanto, nesta lista de exercícios criaremos nossas próprias funções!\n"
   ]
  },
  {
   "cell_type": "markdown",
   "metadata": {
    "id": "3ydmJL5pAfii"
   },
   "source": [
    "Você adicionou o curso de Python da FEA.dev em seu currículo e foi contratado como estagiário na Amazon! Sua tarefa na empresa é automatizar o máximo de processos possíveis e, para isso, precisará criar muitas funções facilitadoras.\n",
    "\n",
    "Começaremos com dois exemplos básicos apenas como demonstração."
   ]
  },
  {
   "cell_type": "code",
   "execution_count": null,
   "metadata": {
    "id": "lX_5Oq1uAfii",
    "outputId": "261ba1de-7936-48a8-debe-25c4df572c24"
   },
   "outputs": [
    {
     "name": "stdout",
     "output_type": "stream",
     "text": [
      "Bom dia!\n",
      "12\n"
     ]
    }
   ],
   "source": [
    "def bomdia():\n",
    "    print('Bom dia!')\n",
    "\n",
    "#função com parâmetros e retornando um valor\n",
    "def soma(a, b):\n",
    "    print (a + b)\n",
    "\n",
    "\n",
    "bomdia()\n",
    "soma(5, 7) # 5 e 7 são argumentos da função soma"
   ]
  },
  {
   "cell_type": "markdown",
   "metadata": {
    "id": "yoXMn-olAfii"
   },
   "source": [
    "**a)Parâmetros Opcionais:**\n",
    "\n",
    "Observando o departamento de contabilidade da Amazon, você percebeu que os funcionários passam o dia multiplicando valores e, como um bom programador, resolveu tornar esse processo mais eficiente. Desenvolva a função mult, que retorna a multiplicação dos parâmetros \"a\", \"b\", \"c\" e \"d\". Porém, a função não precisa necessariamente receber os 4 argumentos. Caso um parâmetro não receba um argumento, ele deve valer 1."
   ]
  },
  {
   "cell_type": "code",
   "execution_count": 5,
   "metadata": {
    "id": "hwH83adaAfij"
   },
   "outputs": [
    {
     "data": {
      "text/plain": [
       "8"
      ]
     },
     "execution_count": 5,
     "metadata": {},
     "output_type": "execute_result"
    }
   ],
   "source": [
    "#seu código começa aqui\n",
    "def mult(a=1, b=1, c=1, d=1):\n",
    "    return a * b * c * d\n",
    "\n",
    "mult(1,4,2)"
   ]
  },
  {
   "cell_type": "markdown",
   "metadata": {
    "id": "ysnnD769Afij"
   },
   "source": [
    "**b)Return X Print:**\n",
    "\n",
    "Antes de tudo, rode todas as células do jupyter.\n",
    "\n",
    "O Jeff Bezos está desesperado, pois não consegue solucionar um erro de código que está impedindo a empresa de continuar funcionando. Assim, ele te ligou para ajudá-lo a corrigir tal erro.\n",
    "Rode o código abaixo para identificar o erro.\n",
    "(não altere o código, o erro foi planejado)"
   ]
  },
  {
   "cell_type": "code",
   "execution_count": 6,
   "metadata": {
    "id": "iHXGF3-JAfij",
    "outputId": "f2b68437-938b-48ef-c688-2c253f53ea6e"
   },
   "outputs": [
    {
     "ename": "NameError",
     "evalue": "name 'soma' is not defined",
     "output_type": "error",
     "traceback": [
      "\u001b[1;31m---------------------------------------------------------------------------\u001b[0m",
      "\u001b[1;31mNameError\u001b[0m                                 Traceback (most recent call last)",
      "Cell \u001b[1;32mIn[6], line 1\u001b[0m\n\u001b[1;32m----> 1\u001b[0m mult(soma(\u001b[38;5;241m5\u001b[39m, \u001b[38;5;241m5\u001b[39m), \u001b[38;5;241m10\u001b[39m)\n",
      "\u001b[1;31mNameError\u001b[0m: name 'soma' is not defined"
     ]
    }
   ],
   "source": [
    "mult(soma(5, 5), 10)"
   ]
  },
  {
   "cell_type": "markdown",
   "metadata": {
    "id": "jkt1zDpzAfij"
   },
   "source": [
    "Reescreva a função soma para que o erro não ocorra. (Dica: Lembre-se da diferença entre retornar um valor e imprimir um valor)"
   ]
  },
  {
   "cell_type": "code",
   "execution_count": 10,
   "metadata": {
    "id": "WBDPaKArAfij"
   },
   "outputs": [
    {
     "data": {
      "text/plain": [
       "100"
      ]
     },
     "execution_count": 10,
     "metadata": {},
     "output_type": "execute_result"
    }
   ],
   "source": [
    "##### SEU CODIGO COMEÇA AQUI #####\n",
    "def soma(a,b):\n",
    "    result_soma = a+b\n",
    "    return result_soma\n",
    "\n",
    "mult(soma(5, 5), 10)"
   ]
  },
  {
   "cell_type": "markdown",
   "metadata": {
    "id": "Um_35FtxAfij"
   },
   "source": [
    "## QUESTÃO 2\n",
    "\n"
   ]
  },
  {
   "cell_type": "markdown",
   "metadata": {
    "id": "9nWDrVybAfij"
   },
   "source": [
    "Você está criando um jogo de \"Caça ao Tesouro\" onde o jogador é um aventureiro em busca de um tesouro escondido em uma linha misteriosa. O tesouro está localizado em um ponto específico da linha e o jogador precisa descobrir sua localização.\n",
    "\n",
    "**Instruções:**\n",
    "\n",
    "O programa gera aleatoriamente a posição do tesouro na linha, que varia de 1 a 100.\n",
    "\n",
    "O jogador é informado de que o tesouro está escondido em algum lugar da linha e recebe um mapa rudimentar mostrando os extremos da linha.\n",
    "\n",
    "O jogador insere suas coordenadas de palpite (um número inteiro representando a posição na linha) e pressiona \"Enter\".\n",
    "\n",
    "O programa fornece feedback ao jogador, indicando se o palpite está próximo demais, muito longe ou se acertou exatamente a localização do tesouro.\n",
    "\n",
    "O jogador continua a adivinhar até encontrar o tesouro.\n",
    "\n",
    "O programa informa quantas tentativas foram necessárias para o jogador encontrar o tesouro."
   ]
  },
  {
   "cell_type": "markdown",
   "metadata": {
    "id": "k7MfQxCIAfij"
   },
   "source": [
    "**Exemplo**\n",
    "\n",
    "Bem-vindo à Caça ao Tesouro! Tente adivinhar a posição do tesouro entre 1 e 100.\n",
    "\n",
    "Digite o seu palpite: 50 O número é maior. Tente novamente.\n",
    "\n",
    "Digite o seu palpite: 25 O número é maior. Tente novamente.\n",
    "\n",
    "Digite o seu palpite: 37 O número é menor. Tente novamente.\n",
    "\n",
    "Digite o seu palpite: 42 Parabéns! Você achou o tesouro na posição 42 em 4 tentativas.\n"
   ]
  },
  {
   "cell_type": "code",
   "execution_count": 13,
   "metadata": {
    "id": "KETe3izfAfij"
   },
   "outputs": [
    {
     "name": "stdout",
     "output_type": "stream",
     "text": [
      "Bem-vindo à Caça ao Tesouro! Tente adivinhar a posição do tesouro entre 1 e 100.\n",
      "\n",
      "Digite o seu palpite: 12\n",
      "O número é maior. Tente novamente.\n",
      "\n",
      "Digite o seu palpite: 56\n",
      "O número é maior. Tente novamente.\n",
      "\n",
      "Digite o seu palpite: 80\n",
      "O número é maior. Tente novamente.\n",
      "\n",
      "Digite o seu palpite: 90\n",
      "O número é menor. Tente novamente.\n",
      "\n",
      "Digite o seu palpite: 85\n",
      "O número é maior. Tente novamente.\n",
      "\n",
      "Digite o seu palpite: 86\n",
      "O número é maior. Tente novamente.\n",
      "\n",
      "Digite o seu palpite: 87\n",
      "Parabéns! Você achou o tesouro na posição 87 em 7 tentativas.\n"
     ]
    }
   ],
   "source": [
    "# seu código começa aqui\n",
    "import random\n",
    "\n",
    "def caca_ao_tesouro():\n",
    "    posicao_do_tesouro = random.randint(1, 100)\n",
    "    print(\"Bem-vindo à Caça ao Tesouro! Tente adivinhar a posição do tesouro entre 1 e 100.\")\n",
    "    tentativas = 0\n",
    "    while True:\n",
    "        palpite = int(input(\"\\nDigite o seu palpite: \"))\n",
    "        tentativas += 1\n",
    "        if palpite == posicao_do_tesouro:\n",
    "            print(f\"Parabéns! Você achou o tesouro na posição {palpite} em {tentativas} tentativas.\")\n",
    "            break\n",
    "        elif palpite < posicao_do_tesouro:\n",
    "            print(\"O número é maior. Tente novamente.\")\n",
    "        else:\n",
    "            print(\"O número é menor. Tente novamente.\")\n",
    "\n",
    "caca_ao_tesouro()"
   ]
  },
  {
   "cell_type": "markdown",
   "metadata": {
    "id": "lnu8b2VaAfik"
   },
   "source": [
    "## QUESTÃO 3"
   ]
  },
  {
   "cell_type": "markdown",
   "metadata": {
    "id": "mT22mcXbAfik"
   },
   "source": [
    "**Descobrir a palavra secreta**\n",
    "\n",
    "Vamos imaginar que estamos desenvolvendo um jogo de \"Descobrir a Palavra Secreta\" onde o jogador precisa adivinhar uma palavra secreta, letra por letra, antes de cometer muitos erros e falhar.\n",
    "\n",
    "**Instrução:**\n",
    "\n",
    "Desenvolva uma função chamada verificar_letra que receba dois parâmetros: a palavra secreta e uma letra. Esta função deve verificar se a letra fornecida está presente na palavra secreta. Se a letra estiver na palavra secreta, a função deve retornar True; caso contrário, deve retornar False. A função só aceitará uma letra como entrada.\n",
    "\n",
    "Essas são as novas diretrizes para a função verificar_letra no jogo de \"Descobrir a Palavra Secreta\". Agora você pode começar a implementar essa função!"
   ]
  },
  {
   "cell_type": "code",
   "execution_count": 21,
   "metadata": {
    "id": "hOMlLzKDAfik"
   },
   "outputs": [
    {
     "name": "stdout",
     "output_type": "stream",
     "text": [
      "True\n"
     ]
    }
   ],
   "source": [
    "# seu codigo começa aqui\n",
    "def verificar_letra(palavra_secreta, letra):\n",
    "    if len(letra) != 1:\n",
    "        print(\"A entrada deve ser uma única letra.\")\n",
    "    return letra in palavra_secreta\n",
    "\n",
    "palavra_secreta = \"python\"\n",
    "letra = \"o\"\n",
    "print(verificar_letra(palavra_secreta, letra))"
   ]
  },
  {
   "cell_type": "markdown",
   "metadata": {
    "id": "tEYLG9YsAfik"
   },
   "source": [
    "# QUESTÃO 4"
   ]
  },
  {
   "cell_type": "markdown",
   "metadata": {
    "id": "5SlMr864Afik"
   },
   "source": [
    "**Criptografia**\n",
    "\n",
    "Vamos supor que você esteja criando uma função para auxiliar em um jogo de criptografia onde é necessário embaralhar as letras de uma palavra para ocultar sua mensagem.\n",
    "\n",
    "**Instrução:**\n",
    "\n",
    "Escreva uma função chamada embaralhar_palavra que aceite uma palavra como argumento e retorne a mesma palavra com suas letras embaralhadas. Independentemente da entrada estar em maiúsculas ou minúsculas, a saída deve estar sempre em letras minúsculas.\n",
    "\n",
    "A palavra que você deve embaralhar é \"criptografar\".\n",
    "\n",
    "Essas são as diretrizes para a função embaralhar_palavra no contexto de criptografia. Agora você pode começar a implementar essa função!"
   ]
  },
  {
   "cell_type": "code",
   "execution_count": 32,
   "metadata": {
    "id": "ohk1Q0TPAfik"
   },
   "outputs": [
    {
     "data": {
      "text/plain": [
       "'arrcptforiga'"
      ]
     },
     "execution_count": 32,
     "metadata": {},
     "output_type": "execute_result"
    }
   ],
   "source": [
    "#SEU CÓDIGO COMEÇA AQUI##\n",
    "\n",
    "import random\n",
    "\n",
    "def embaralhar_palavra(palavra):\n",
    "    palavra = palavra.lower()\n",
    "    lista_caracteres = list(palavra)\n",
    "    random.shuffle(lista_caracteres)\n",
    "    palavra_embaralhada = ''.join(lista_caracteres)\n",
    "    return palavra_embaralhada\n",
    "\n",
    "teste = \"criptografar\"\n",
    "embaralhar_palavra(teste)"
   ]
  },
  {
   "cell_type": "markdown",
   "metadata": {
    "id": "KXDiVBjVAfik"
   },
   "source": [
    "## QUESTÃO 5"
   ]
  },
  {
   "cell_type": "markdown",
   "metadata": {
    "id": "RSoD6X88Afik"
   },
   "source": [
    "Você está desenvolvendo uma função chamada eh_numero_impar que verifica se um número é par ou ímpar. Esta função ajudará a determinar se um número dado é ou não divisível por 2.\n",
    "\n",
    "**Instruções:**\n",
    "\n",
    "Crie uma função chamada eh_numero_impar que aceite um número como argumento.\n",
    "\n",
    "Dentro da função, verifique se o número é divisível por 2. Se for divisível por 2, retorne False. Caso contrário, retorne True."
   ]
  },
  {
   "cell_type": "code",
   "execution_count": 34,
   "metadata": {
    "id": "DBSJHoCZAfik"
   },
   "outputs": [
    {
     "data": {
      "text/plain": [
       "False"
      ]
     },
     "execution_count": 34,
     "metadata": {},
     "output_type": "execute_result"
    }
   ],
   "source": [
    "### Seu código começa aqui\n",
    "\n",
    "def eh_numero_impar(numero):\n",
    "    if numero % 2 == 0:\n",
    "        return False\n",
    "    else:\n",
    "        return True\n",
    "\n",
    "eh_numero_impar(2)"
   ]
  },
  {
   "cell_type": "markdown",
   "metadata": {
    "id": "W-i_VAAcAfik"
   },
   "source": [
    "## QUESTÃO 6"
   ]
  },
  {
   "cell_type": "markdown",
   "metadata": {
    "id": "6EFpZ6Y8Afik"
   },
   "source": [
    "Suponha que você esteja desenvolvendo um sistema para uma loja de cupcakes que permite aos clientes escolherem a cobertura dos seus cupcakes. Crie a função escolher_cobertura para auxiliar os clientes na escolha das coberturas disponíveis.\n",
    "\n",
    "Crie uma função chamada escolher_sabores que aceite uma lista de sabores de cobertura como argumento. A função deve escolher aleatoriamente uma cobertura da lista e retorná-la."
   ]
  },
  {
   "cell_type": "code",
   "execution_count": 37,
   "metadata": {
    "id": "X6-Vsz9_Afik"
   },
   "outputs": [
    {
     "data": {
      "text/plain": [
       "'Chocolate'"
      ]
     },
     "execution_count": 37,
     "metadata": {},
     "output_type": "execute_result"
    }
   ],
   "source": [
    "coberturas_disponíveis = [\"Baunilha\", \"Chocolate\", \"Morango\", \"Creme\", \"Café\", \"Chocolate com menta\"]\n",
    "def escolher_sabores(lista_sabor):\n",
    "    escolhida = random.choice(lista_sabor)\n",
    "    return escolhida\n",
    "\n",
    "escolher_sabores(coberturas_disponíveis)"
   ]
  },
  {
   "cell_type": "markdown",
   "metadata": {
    "id": "m1SKd6SfAfil"
   },
   "source": [
    "# Questão 7"
   ]
  },
  {
   "cell_type": "markdown",
   "metadata": {
    "id": "GDmiaboqAfil"
   },
   "source": [
    "Suponha que você esteja desenvolvendo um aplicativo de previsão do tempo que fornece informações meteorológicas detalhadas para ajudar as pessoas a planejarem suas atividades ao ar livre. Para isso, é necessário criar uma função que exiba um calendário mensal com previsões meteorológicas para que os usuários possam visualizar o clima ao longo do mês.\n",
    "\n",
    "Vou criar a função exibir_calendario_meteorologico que aceita dois argumentos: o ano e o mês para os quais você deseja visualizar o calendário meteorológico. A função vai retornar uma representação do calendário do mês especificado, mostrando os dias da semana e os números dos dias do mês."
   ]
  },
  {
   "cell_type": "code",
   "execution_count": 60,
   "metadata": {
    "id": "oRrnln65Afil"
   },
   "outputs": [
    {
     "name": "stdout",
     "output_type": "stream",
     "text": [
      "May 2024\n",
      "D   S  T  Q  Q  S  S\n",
      "          1  2  3  4 \n",
      " 5  6  7  8  9 10 11 \n",
      "12 13 14 15 16 17 18 \n",
      "19 20 21 22 23 24 25 \n",
      "26 27 28 29 30 31    \n"
     ]
    }
   ],
   "source": [
    "#####SEU CODIGO COMECA AQUI#####\n",
    "import calendar #lembre-se da lista passada\n",
    "\n",
    "def exibir_calendario_meteorologico(ano, mes):\n",
    "    cal = calendar.Calendar(firstweekday=6)\n",
    "    nome_mes = calendar.month_name[mes]\n",
    "    print(f\"{nome_mes} {ano}\")\n",
    "    print(\"D   S  T  Q  Q  S  S\")\n",
    "    dias_mes = cal.monthdayscalendar(ano, mes)\n",
    "    for semana in dias_mes:\n",
    "        for dia in semana:\n",
    "            if dia == 0:\n",
    "                print(\"  \", end=\" \")\n",
    "            else:\n",
    "                print(f\"{dia:2}\", end=\" \")\n",
    "        print()  # Nova linha após cada semana\n",
    "\n",
    "\n",
    "exibir_calendario_meteorologico(2024, 5)"
   ]
  },
  {
   "cell_type": "markdown",
   "metadata": {
    "id": "6Rz5TeOKAfil"
   },
   "source": [
    "# Questão 8"
   ]
  },
  {
   "cell_type": "markdown",
   "metadata": {
    "id": "fG06dDzCAfil"
   },
   "source": [
    "Imagine que você é um organizador de eventos e está planejando uma festa temática de \"Guloseimas Festivas\" para comemorar o final do ano. Você deseja criar um programa para contar a quantidade de guloseimas que serão distribuídas durante a festa. Crie uma função chamada contar_guloseimas que simula a contagem de guloseimas."
   ]
  },
  {
   "cell_type": "code",
   "execution_count": null,
   "metadata": {
    "id": "sSMoCZESAfin"
   },
   "outputs": [],
   "source": [
    "##### seu código começa aqui\n",
    "guloseimas = [\"chocolate\", \"chocolate\", \"pirulito\", \"caramelo\", \"pirulito\", \"pirulito\"]\n",
    "\n",
    "def contar_guloseimas(guloseimas):\n",
    "    contagem = {}\n",
    "    for guloseima in guloseimas:\n",
    "        if guloseima in contagem:\n",
    "            contagem[guloseima] += 1\n",
    "        else:\n",
    "            contagem[guloseima] = 1\n",
    "    \n",
    "    # Imprimir a contagem de guloseimas\n",
    "    for guloseima, quantidade in contagem.items():\n",
    "        print(f\"{quantidade} {guloseima}\")\n",
    "\n",
    "# Lista de guloseimas\n",
    "guloseimas = [\"chocolate\", \"chocolate\", \"pirulito\", \"caramelo\", \"pirulito\", \"pirulito\"]\n",
    "\n",
    "# Chamando a função com a lista de guloseimas\n",
    "contar_guloseimas(guloseimas)"
   ]
  },
  {
   "cell_type": "markdown",
   "metadata": {
    "id": "DRLsevNbAfin"
   },
   "source": [
    "# DESAFIO"
   ]
  },
  {
   "cell_type": "markdown",
   "metadata": {
    "id": "I7uOsr_KAfio"
   },
   "source": [
    "Para o desafio vamos criar um jogo de bingo onde a pessoa deve pressionar \"Enter\" para sortear cada número. Os números sorteados estão limitados a um intervalo de 1 a 20.\n",
    "\n",
    "**Instruções:**\n",
    "\n",
    "Crie uma função chamada sortear_bingo que não aceita argumentos.\n",
    "\n",
    "Inicialize uma lista vazia chamada numeros_sorteados para acompanhar os números sorteados.\n",
    "\n",
    "Inicialize uma cartela de bingo com números de 1 a 20. A cartela pode ser uma lista de 3 listas com 3 números cada. Cada número deve ser único na cartela.\n",
    "\n",
    "Utilize um loop para simular o sorteio de números de 1 a 20. Certifique-se de que os números sorteados sejam únicos.\n",
    "\n",
    "Exiba cada número sorteado na tela e a cartela do jogador.\n",
    "\n",
    "Peça à pessoa que pressione \"Enter\" para sortear o próximo número a cada rodada.\n",
    "\n",
    "Marque o número sorteado na cartela do jogador.\n",
    "\n",
    "Continue o sorteio até que todos os números de 1 a 20 tenham sido sorteados. Quando isso acontecer, exiba \"Bingo!\"."
   ]
  },
  {
   "cell_type": "code",
   "execution_count": null,
   "metadata": {
    "id": "G2spcNcdAfio"
   },
   "outputs": [],
   "source": [
    "##seu codigo começa aqui\n",
    "\n",
    "cartela_jogador = [\n",
    "    [1,8,10],\n",
    "    [5,3,7],\n",
    "    [2,6,9],\n",
    "]"
   ]
  }
 ],
 "metadata": {
  "colab": {
   "provenance": []
  },
  "kernelspec": {
   "display_name": "Python 3 (ipykernel)",
   "language": "python",
   "name": "python3"
  },
  "language_info": {
   "codemirror_mode": {
    "name": "ipython",
    "version": 3
   },
   "file_extension": ".py",
   "mimetype": "text/x-python",
   "name": "python",
   "nbconvert_exporter": "python",
   "pygments_lexer": "ipython3",
   "version": "3.11.3"
  }
 },
 "nbformat": 4,
 "nbformat_minor": 1
}
